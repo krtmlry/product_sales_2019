{
 "cells": [
  {
   "cell_type": "code",
   "execution_count": 1,
   "id": "89681477-0f6d-479d-80ac-395c974903b0",
   "metadata": {},
   "outputs": [],
   "source": [
    "import pandas as pd\n",
    "import io\n",
    "import requests\n",
    "import psycopg2\n",
    "from sqlalchemy import create_engine\n",
    "\n",
    "url = 'https://raw.githubusercontent.com/krtmlry/product_sales_2019/main/data/productsales_merged_01.csv'\n",
    "response = requests.get(url)\n",
    "df = pd.read_csv(io.StringIO(response.text), sep=',')"
   ]
  },
  {
   "cell_type": "markdown",
   "id": "9f8620dd-95bf-4799-9a72-01dada654aa1",
   "metadata": {},
   "source": [
    "# convert data types"
   ]
  },
  {
   "cell_type": "code",
   "execution_count": 2,
   "id": "5f36389d-0c17-499e-a454-4803be26c287",
   "metadata": {},
   "outputs": [],
   "source": [
    "df['order_id'] = pd.to_numeric(df['order_id'], errors= 'coerce').fillna(0).astype(int)\n",
    "df['product'] = df['product'].astype(str)\n",
    "df['qty_ordered'] = pd.to_numeric(df['qty_ordered'],  errors='coerce').fillna(0).astype(int)\n",
    "df['price'] = pd.to_numeric(df['price'], errors='coerce').fillna(0).astype(float)\n",
    "df['order_date'] = pd.to_datetime(df['order_date'],format='mixed',errors='coerce')\n",
    "df['shipping_address'] = df['shipping_address'].astype(str)\n",
    "df = df.sort_values('order_date').reset_index(drop=True)\n",
    "df = df[['order_id','order_date','product','qty_ordered','price','shipping_address']]"
   ]
  },
  {
   "cell_type": "code",
   "execution_count": 3,
   "id": "7389b0b2-0999-45b3-885c-54719b6f6ec9",
   "metadata": {},
   "outputs": [],
   "source": [
    "# df.info()"
   ]
  },
  {
   "cell_type": "markdown",
   "id": "a0a645aa-6844-47ee-9b1a-d47a4e870c9e",
   "metadata": {},
   "source": [
    "# Create datetime_dim to store order_date details; year,month,day,weekday"
   ]
  },
  {
   "cell_type": "code",
   "execution_count": 4,
   "id": "62a7d726-575b-4fee-84da-df1e6ef5d5c6",
   "metadata": {},
   "outputs": [],
   "source": [
    "datetime_dim = df[['order_date']].reset_index(drop=True)\n",
    "datetime_dim['datetime_dim_id'] = datetime_dim.index+1\n",
    "datetime_dim['order_year'] = datetime_dim['order_date'].dt.year\n",
    "datetime_dim['order_month'] = datetime_dim['order_date'].dt.month\n",
    "datetime_dim['order_day'] = datetime_dim['order_date'].dt.day\n",
    "datetime_dim['order_weekday'] = datetime_dim['order_date'].dt.weekday\n",
    "datetime_dim = datetime_dim[['datetime_dim_id','order_date','order_year','order_month','order_day','order_weekday',]]\n",
    "# datetime_dim.head()"
   ]
  },
  {
   "cell_type": "markdown",
   "id": "ef976fb3-b9ac-4d9d-bffb-04042756f9da",
   "metadata": {},
   "source": [
    "# Extract product names and prices, create product id for each item"
   ]
  },
  {
   "cell_type": "code",
   "execution_count": 5,
   "id": "e9a9ffeb-e549-42a1-9b60-7ee1ca301f09",
   "metadata": {},
   "outputs": [],
   "source": [
    "unique_products = df[['product','price']].drop_duplicates().reset_index(drop=True)\n",
    "unique_products = unique_products.sort_values(by='product').reset_index(drop=True)\n",
    "unique_products['product_id'] = unique_products.index+1\n",
    "# unique_products"
   ]
  },
  {
   "cell_type": "markdown",
   "id": "b7ecd5e4-4973-440b-8360-55a79d86fc0c",
   "metadata": {},
   "source": [
    "# Extract information and convert into dictionary to be used for mapping"
   ]
  },
  {
   "cell_type": "code",
   "execution_count": 6,
   "id": "d56c40a8-6bf4-41a3-a306-10f7c42c68b5",
   "metadata": {},
   "outputs": [],
   "source": [
    "product_details = {}\n",
    "for index, row in unique_products.iterrows():\n",
    "    product_id = row['product_id']\n",
    "    product_name = row['product']\n",
    "    product_price = row['price']\n",
    "    product_details[product_id] ={'product':product_name, 'price':product_price}\n",
    "# product_details"
   ]
  },
  {
   "cell_type": "code",
   "execution_count": 7,
   "id": "aff18a8d-604c-4262-8431-b938e04573c5",
   "metadata": {},
   "outputs": [],
   "source": [
    "product_dim = df[['product']].reset_index(drop=True)\n",
    "product_dim['product_dim_id'] = product_dim.index+1\n",
    "product_dim['product_id'] = df['product'].map({v['product']: k for (k, v) in product_details.items()})\n",
    "product_dim['price'] = product_dim['product_id'].map(lambda x: product_details.get(x, {}).get('price'))\n",
    "product_dim = product_dim[['product_dim_id','product_id','product','price']]\n",
    "# product_dim.head()"
   ]
  },
  {
   "cell_type": "markdown",
   "id": "a9ecedbb-2658-43de-8a2f-07b77698e072",
   "metadata": {},
   "source": [
    "# Create customer_dim"
   ]
  },
  {
   "cell_type": "code",
   "execution_count": 8,
   "id": "e66bba84-5b15-4534-93da-e4b836ccc7e3",
   "metadata": {},
   "outputs": [],
   "source": [
    "customer_dim = df[['shipping_address']].reset_index(drop=True)\n",
    "customer_dim['customer_dim_id'] = customer_dim.index+1\n",
    "customer_dim['customer_id'] = customer_dim.index+1 #Natural/ main primary key\n",
    "customer_dim['city'] = customer_dim['shipping_address'].str.split(', ').str[1]\n",
    "customer_dim = customer_dim[['customer_dim_id','customer_id','shipping_address','city']]\n",
    "# customer_dim.head()"
   ]
  },
  {
   "cell_type": "markdown",
   "id": "20bac36a-d22f-4c58-845f-fc603feb85cd",
   "metadata": {},
   "source": [
    "# Create order_details as a fact_table"
   ]
  },
  {
   "cell_type": "code",
   "execution_count": 9,
   "id": "bf1b12a9-6a23-4983-84b9-0b6c29f9689a",
   "metadata": {},
   "outputs": [],
   "source": [
    "order_details = df.merge(datetime_dim, how='left', left_index=True, right_index=True) \\\n",
    "            .merge(customer_dim, how='left', left_index=True, right_index=True) \\\n",
    "            .merge(product_dim, how='left', left_index=True, right_index=True) \\\n",
    "            [['order_id','datetime_dim_id','customer_dim_id','product_dim_id','qty_ordered']]\n",
    "order_details['total_price'] = (product_dim['price']*df['qty_ordered']).round(2)\n",
    "order_details['datetime_dim_id'] = order_details['datetime_dim_id'].astype(pd.Int32Dtype())\n",
    "order_details['customer_dim_id'] = order_details['customer_dim_id'].astype(pd.Int32Dtype())\n",
    "order_details['product_dim_id'] = order_details['product_dim_id'].astype(pd.Int32Dtype())"
   ]
  },
  {
   "cell_type": "code",
   "execution_count": 10,
   "id": "39048ed0-2564-454d-ad88-0808e411a890",
   "metadata": {},
   "outputs": [
    {
     "data": {
      "text/html": [
       "<div>\n",
       "<style scoped>\n",
       "    .dataframe tbody tr th:only-of-type {\n",
       "        vertical-align: middle;\n",
       "    }\n",
       "\n",
       "    .dataframe tbody tr th {\n",
       "        vertical-align: top;\n",
       "    }\n",
       "\n",
       "    .dataframe thead th {\n",
       "        text-align: right;\n",
       "    }\n",
       "</style>\n",
       "<table border=\"1\" class=\"dataframe\">\n",
       "  <thead>\n",
       "    <tr style=\"text-align: right;\">\n",
       "      <th></th>\n",
       "      <th>order_id</th>\n",
       "      <th>datetime_dim_id</th>\n",
       "      <th>customer_dim_id</th>\n",
       "      <th>product_dim_id</th>\n",
       "      <th>qty_ordered</th>\n",
       "      <th>total_price</th>\n",
       "    </tr>\n",
       "  </thead>\n",
       "  <tbody>\n",
       "    <tr>\n",
       "      <th>0</th>\n",
       "      <td>147268</td>\n",
       "      <td>1</td>\n",
       "      <td>1</td>\n",
       "      <td>1</td>\n",
       "      <td>1</td>\n",
       "      <td>11.99</td>\n",
       "    </tr>\n",
       "    <tr>\n",
       "      <th>1</th>\n",
       "      <td>148041</td>\n",
       "      <td>2</td>\n",
       "      <td>2</td>\n",
       "      <td>2</td>\n",
       "      <td>1</td>\n",
       "      <td>11.95</td>\n",
       "    </tr>\n",
       "    <tr>\n",
       "      <th>2</th>\n",
       "      <td>149343</td>\n",
       "      <td>3</td>\n",
       "      <td>3</td>\n",
       "      <td>3</td>\n",
       "      <td>1</td>\n",
       "      <td>150.00</td>\n",
       "    </tr>\n",
       "    <tr>\n",
       "      <th>3</th>\n",
       "      <td>149964</td>\n",
       "      <td>4</td>\n",
       "      <td>4</td>\n",
       "      <td>4</td>\n",
       "      <td>1</td>\n",
       "      <td>2.99</td>\n",
       "    </tr>\n",
       "    <tr>\n",
       "      <th>4</th>\n",
       "      <td>149350</td>\n",
       "      <td>5</td>\n",
       "      <td>5</td>\n",
       "      <td>5</td>\n",
       "      <td>2</td>\n",
       "      <td>23.90</td>\n",
       "    </tr>\n",
       "  </tbody>\n",
       "</table>\n",
       "</div>"
      ],
      "text/plain": [
       "   order_id  datetime_dim_id  customer_dim_id  product_dim_id  qty_ordered   \n",
       "0    147268                1                1               1            1  \\\n",
       "1    148041                2                2               2            1   \n",
       "2    149343                3                3               3            1   \n",
       "3    149964                4                4               4            1   \n",
       "4    149350                5                5               5            2   \n",
       "\n",
       "   total_price  \n",
       "0        11.99  \n",
       "1        11.95  \n",
       "2       150.00  \n",
       "3         2.99  \n",
       "4        23.90  "
      ]
     },
     "execution_count": 10,
     "metadata": {},
     "output_type": "execute_result"
    }
   ],
   "source": [
    "order_details.head()"
   ]
  },
  {
   "cell_type": "markdown",
   "id": "14e838cd-81a7-4f96-9d2e-b36d3ed09c15",
   "metadata": {},
   "source": [
    "# Export tables to Supabase"
   ]
  },
  {
   "cell_type": "code",
   "execution_count": 3,
   "id": "f31bd110-419b-468c-9e0f-6271ba51ff30",
   "metadata": {},
   "outputs": [],
   "source": [
    "db_creds ={\n",
    "    'host': 'hostname', #replace with hostname or url\n",
    "    'database': 'postgres',\n",
    "    'user': 'postgres',\n",
    "    'password': 'password', #replace with password\n",
    "    'port': 5432}"
   ]
  },
  {
   "cell_type": "code",
   "execution_count": 31,
   "id": "f7f73443-a2a2-4063-8e49-da051b4ed8c1",
   "metadata": {},
   "outputs": [],
   "source": [
    "conn = psycopg2.connect(**db_creds)\n",
    "cur = conn.cursor()\n",
    "\n",
    "engine = create_engine(f'postgresql://{db_creds[\"user\"]}:{db_creds[\"password\"]}@{db_creds[\"host\"]}:{db_creds[\"port\"]}/{db_creds[\"database\"]}')"
   ]
  },
  {
   "cell_type": "code",
   "execution_count": 32,
   "id": "81751a22-670d-44fb-85a0-594e6a695218",
   "metadata": {},
   "outputs": [],
   "source": [
    "create_datetime_dim = '''\n",
    "    CREATE TABLE datetime_dim (\n",
    "    datetime_dim_id PRIMARY KEY,\n",
    "    order_date TIMESTAMP,\n",
    "    order_year INTEGER,\n",
    "    order_month INTEGER,\n",
    "    order_day INTEGER,\n",
    "    order_weekday INTEGER\n",
    "    )\n",
    "'''\n",
    "\n",
    "create_customer_dim = '''\n",
    "    CREATE TABLE customer_dim (\n",
    "    customer_dim_id PRIMARY KEY,\n",
    "    customer_id INTEGER,\n",
    "    purchase_address VARCHAR(250),\n",
    "    city VARCHAR(250)\n",
    "    );\n",
    "'''\n",
    "\n",
    "create_product_dim = '''\n",
    "    CREATE TABLE product_dim (\n",
    "    product_dim_id PRIMARY KEY,\n",
    "    product_id INTEGER,\n",
    "    product VARCHAR(250),\n",
    "    price FLOAT\n",
    "    );\n",
    "'''\n",
    "\n",
    "create_order_details = '''\n",
    "    CREATE TABLE order_details (\n",
    "    order_id PRIMARY KEY,\n",
    "    datetime_dim_id INTEGER,\n",
    "    customer_dim_id INTEGER,\n",
    "    product_dim_id INTEGER,\n",
    "    qty_ordered INTEGER,\n",
    "    total_price FLOAT,\n",
    "    FOREIGN KEY (datetime_dim_id) REFERENCES datetime_dim (datetime_dim_id),\n",
    "    FOREIGN KEY (customer_dim_id) REFERENCES customer_dim (customer_dim_id),\n",
    "    FOREIGN KEY (product_dim_id) REFERENCES product_dim (product_dim_id)\n",
    "    );\n",
    "'''"
   ]
  },
  {
   "cell_type": "code",
   "execution_count": 33,
   "id": "6630fa30-fd36-40b6-987f-1a9a39e2c8ad",
   "metadata": {},
   "outputs": [],
   "source": [
    "try:\n",
    "    cur.execute(create_datetime_dim)\n",
    "    cur.execute(create_customer_dim)\n",
    "    cur.execute(create_product_dim)\n",
    "    cur.execute(create_order_details)\n",
    "    conn.commit()\n",
    "except:\n",
    "    conn.rollback()"
   ]
  },
  {
   "cell_type": "code",
   "execution_count": 34,
   "id": "1779a8be-2258-46b3-8bca-e0eb9aae77cc",
   "metadata": {},
   "outputs": [],
   "source": [
    "datetime_dim.to_sql('datetime_dim', engine, if_exists='replace', index=False)\n",
    "customer_dim.to_sql('customer_dim', engine, if_exists='replace', index=False)\n",
    "product_dim.to_sql('product_dim', engine, if_exists='replace', index=False)\n",
    "order_details.to_sql('order_details', engine, if_exists='replace', index=False)\n",
    "\n",
    "# Close the database connection\n",
    "conn.close()"
   ]
  },
  {
   "cell_type": "code",
   "execution_count": null,
   "id": "1d9ef87e-cd6d-4227-9f9f-26dbce4ccdb9",
   "metadata": {},
   "outputs": [],
   "source": []
  }
 ],
 "metadata": {
  "kernelspec": {
   "display_name": "Python 3 (ipykernel)",
   "language": "python",
   "name": "python3"
  },
  "language_info": {
   "codemirror_mode": {
    "name": "ipython",
    "version": 3
   },
   "file_extension": ".py",
   "mimetype": "text/x-python",
   "name": "python",
   "nbconvert_exporter": "python",
   "pygments_lexer": "ipython3",
   "version": "3.11.3"
  }
 },
 "nbformat": 4,
 "nbformat_minor": 5
}
